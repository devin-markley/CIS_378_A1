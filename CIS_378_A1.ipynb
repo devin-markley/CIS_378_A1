{
 "cells": [
  {
   "cell_type": "markdown",
   "source": [
    "Import required libraries"
   ],
   "metadata": {
    "collapsed": false
   },
   "id": "eae6a00e2da21db6"
  },
  {
   "cell_type": "code",
   "outputs": [],
   "source": [
    "import tensorflow as tf\n",
    "from tensorflow.keras.models import Sequential\n",
    "from tensorflow.keras.layers import Conv2D, MaxPooling2D, Flatten, Dense"
   ],
   "metadata": {
    "collapsed": false,
    "ExecuteTime": {
     "end_time": "2024-10-10T15:56:03.427076Z",
     "start_time": "2024-10-10T15:56:00.349679Z"
    }
   },
   "id": "24d3ffdda55d4a88",
   "execution_count": 2
  },
  {
   "cell_type": "markdown",
   "source": [
    "Initialize the Sequential Model"
   ],
   "metadata": {
    "collapsed": false
   },
   "id": "f128f206c9d535de"
  },
  {
   "cell_type": "code",
   "outputs": [],
   "source": [
    "model = Sequential()"
   ],
   "metadata": {
    "collapsed": false,
    "ExecuteTime": {
     "end_time": "2024-10-10T16:04:39.764096Z",
     "start_time": "2024-10-10T16:04:39.748272Z"
    }
   },
   "id": "5656d2dce5167c17",
   "execution_count": 3
  },
  {
   "cell_type": "markdown",
   "source": [
    "First Convolutional Layer"
   ],
   "metadata": {
    "collapsed": false
   },
   "id": "aeb0e16049577b46"
  },
  {
   "cell_type": "code",
   "outputs": [],
   "source": [],
   "metadata": {
    "collapsed": false
   },
   "id": "514b5a2cc742992e"
  }
 ],
 "metadata": {
  "kernelspec": {
   "display_name": "Python 3",
   "language": "python",
   "name": "python3"
  },
  "language_info": {
   "codemirror_mode": {
    "name": "ipython",
    "version": 2
   },
   "file_extension": ".py",
   "mimetype": "text/x-python",
   "name": "python",
   "nbconvert_exporter": "python",
   "pygments_lexer": "ipython2",
   "version": "2.7.6"
  }
 },
 "nbformat": 4,
 "nbformat_minor": 5
}
